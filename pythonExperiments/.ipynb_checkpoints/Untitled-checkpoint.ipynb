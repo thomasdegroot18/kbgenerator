{
 "cells": [
  {
   "cell_type": "code",
   "execution_count": 4,
   "metadata": {},
   "outputs": [],
   "source": [
    "import plots\n",
    "import tables\n",
    "import json\n",
    "import matplotlib.pyplot as plt\n",
    "import numpy as np\n",
    "import json\n",
    "\n",
    "\n",
    "SString = \"StatResults/Sampled/\"\n",
    "sString = \"StatResults/\"\n",
    "incon = \"/InconsistencyStatistics.json\"\n",
    "kbStaaa = \"/kbStatistics.json\"\n",
    "\n",
    "Colors = ['#3cb44b','#e6194b', '#4363d8', '#f58231', '#911eb4', '#46f0f0', '#f032e6','#ffe119', '#bcf60c', '#fabebe', '#008080', '#e6beff', '#9a6324', '#fffac8', '#800000', '#aaffc3', '#808000', '#ffd8b1', '#000075', '#808080', '#ffffff', '#000000']\n"
   ]
  },
  {
   "cell_type": "code",
   "execution_count": 5,
   "metadata": {},
   "outputs": [],
   "source": [
    "FileListInconsistency = \t   [sString+'DBpedia'+incon,\n",
    "\t\t\t\t\t\t\t\tsString+'Yago'+incon,\n",
    "\t\t\t\t\t\t\t\tsString+'dblp-2012-11-28b'+incon]\n",
    "FileListKB =            \t   [sString+'DBpedia'+kbStaaa,\n",
    "\t\t\t\t\t\t\t\tsString+'Yago'+kbStaaa,\n",
    "\t\t\t\t\t\t\t\tsString+'dblp-2012-11-28b'+kbStaaa]\n"
   ]
  },
  {
   "cell_type": "code",
   "execution_count": 10,
   "metadata": {},
   "outputs": [],
   "source": [
    "FileListInconsistency = \t   [sString+'DBpedia'+incon,\n",
    "\t\t\t\t\t\t\t\tsString+'Yago'+incon,\n",
    "\t\t\t\t\t\t\t\tsString+'LOD'+incon]\n",
    "FileListKB =            \t   [sString+'DBpedia'+kbStaaa,\n",
    "\t\t\t\t\t\t\t\tsString+'Yago'+kbStaaa]"
   ]
  },
  {
   "cell_type": "code",
   "execution_count": 21,
   "metadata": {},
   "outputs": [],
   "source": [
    "\n",
    "def plotting(FileListInconsistency, FileListKB, Sample):\n",
    "    counter = 0\n",
    "    ColorScheme = {}\n",
    "    labels1 = []\n",
    "    labels2 = []\n",
    "    width = (1-0.1)/len(FileListInconsistency)\n",
    "    for file in FileListInconsistency:\n",
    "        print(file)\n",
    "        datasetName = file.split(\"/\")[-2]\n",
    "        ColorScheme[datasetName] = Colors[len(ColorScheme.keys())]\n",
    "        print(ColorScheme[datasetName])\n",
    "        labels1.append(datasetName)\n",
    "        json_file = open(file, 'r')\n",
    "        data = json.load(json_file)\n",
    "        IDCoor = []\n",
    "        Size = [i for i in range(0,25)]\n",
    "        SizeCount = [0 for i in range(0,25)]\n",
    "        SizeCoor = []\n",
    "        SizeSum = [0 for i in range(0,25)]\n",
    "        CountCoor = []\n",
    "        for elem in data:\n",
    "            CountCoor.append(elem[\"Count\"])\n",
    "            SizeCoor.append(elem[\"Size\"])\n",
    "            IDCoor.append(elem[\"id\"])\n",
    "            if(elem[\"Count\"] > 0):\n",
    "                SizeCount[elem[\"Size\"]] += 1\n",
    "\n",
    "            SizeSum[elem[\"Size\"]] += elem[\"Count\"]\n",
    "        plt.figure(1)\n",
    "        plt.title('Plot showing the Distribution of Size')\n",
    "        plt.plot(Size, SizeCount, color=ColorScheme[datasetName])\n",
    "        plt.ylabel('Amount of \"Anti-patterns\"')\n",
    "        plt.xlabel('Size of the \"Anti-pattern\"')\n",
    "\n",
    "        plt.figure(2)\n",
    "\n",
    "        SizeSum[:] = [x / float(sum(SizeSum)+0.0000001) for x in SizeSum]\n",
    "        plt.title('Plot showing the normalised Distribution of Occurences')\n",
    "        Size = np.arange(0,25)\n",
    "        try:\n",
    "            plt.bar(Size+width*counter, SizeSum, width, color=ColorScheme[datasetName])\n",
    "        except:\n",
    "            pass\n",
    "        counter += 1\n",
    "        plt.ylabel('Occurrences of the \"Anti-pattern\"')\n",
    "        plt.xlabel('Size of the \"Anti-pattern\"')\n",
    "\n",
    "        CountCoor.sort(reverse = True)\n",
    "#          CountCoor[:] = [x / float(sum(CountCoor)+0.0000001) for x in CountCoor]\n",
    "        if (datasetName == \"Yago\"):\n",
    "            CountCoor[:] = [x / 100 for x in CountCoor]\n",
    "        CountCoorElem = []\n",
    "        for x in CountCoor:\n",
    "            if (x >= 1):\n",
    "                CountCoorElem.append(round(x))\n",
    "        print(CountCoorElem)\n",
    "        plt.figure(3)\n",
    "        plt.title('Plot showing the Distribution of Occurences')\n",
    "        plt.plot( CountCoorElem, color=ColorScheme[datasetName])\n",
    "        plt.ylabel('Occurrences of the \"Anti-pattern\"')\n",
    "        plt.xlabel('\"Anti-pattern\" type')\n",
    "\n",
    "    ColorScheme = {'dbpedia2016-04en': '#4363d8', 'yago2s': '#f58231', 'dblp-2012-11-28b': '#e6194b'} \n",
    "    for file in FileListKB:\n",
    "        json_file = open(file, 'r')\n",
    "        data = json.load(json_file)\n",
    "\n",
    "        datasetName = file.split(\"/\")[-2]\n",
    "        labels2.append(datasetName)\n",
    "        if not(datasetName in ColorScheme):\n",
    "            ColorScheme[datasetName] = Colors[len(ColorScheme.keys())]\n",
    "        XcoorIn = []\n",
    "        YcoorIn = []\n",
    "        for key in sorted(data[\"InDegree\"].keys(), key=int):\n",
    "            XcoorIn.append(int(key))\n",
    "            YcoorIn.append(int(data[\"InDegree\"][key]))\n",
    "\n",
    "        plt.figure(4)\n",
    "        plt.title('Plot showing the Distribution of the nodes with inlinks')\n",
    "        plt.plot(XcoorIn, YcoorIn, color=ColorScheme[datasetName])\n",
    "        plt.ylabel('Occurences of the nodes with inlinks')\n",
    "        plt.xlabel('Amount of inlinks towards the node')\n",
    "\n",
    "\n",
    "        XcoorOut = []\n",
    "        YcoorOut = []\n",
    "        for key in sorted(data[\"OutDegree\"].keys(), key=int):\n",
    "            XcoorOut.append(int(key))\n",
    "            YcoorOut.append(int(data[\"OutDegree\"][key]))\n",
    "\n",
    "        plt.figure(5)\n",
    "        plt.title('Plot showing the Distribution of the nodes with outlinks')\n",
    "        plt.plot(XcoorOut, YcoorOut, color=ColorScheme[datasetName])\n",
    "        plt.ylabel('Occurences of the nodes with equal outlinks')\n",
    "        plt.xlabel('Amount of outlinks outwards the node')\n",
    "\n",
    "        XcoorCluster = []\n",
    "        YcoorCluster = []\n",
    "\n",
    "        for key in sorted(data[\"ClusteringCoefficient\"].keys(), key=float):\n",
    "            XcoorCluster.append(float(key))\n",
    "            YcoorCluster.append(int(data[\"ClusteringCoefficient\"][key]))\n",
    "        # xnew = np.linspace(min(XcoorCluster),max(XcoorCluster),300) #300 represents number of points to make between T.min and T.max\n",
    "\n",
    "        # power_smooth = spline(XcoorCluster,YcoorCluster,xnew)\n",
    "        plt.figure(6)\n",
    "        plt.title('Plot showing the Distribution of the nodes with equal ClusteringCoefficient')\n",
    "        #plt.plot(xnew,power_smooth, color=ColorScheme[datasetName])\n",
    "        plt.plot(XcoorCluster, YcoorCluster, color=ColorScheme[datasetName])\n",
    "        plt.ylabel('Occurences of the nodes with equal ClusteringCoefficient')\n",
    "        plt.xlabel('ClusteringCoefficient of the node')\n",
    "\n",
    "\n",
    "\n",
    "    for current in plt.get_fignums():\n",
    "\n",
    "\n",
    "        plt.figure(current)\n",
    "        # Remove the plot frame lines. They are unnecessary chartjunk.\n",
    "        ax = plt.subplot(111)\n",
    "        ax.spines[\"top\"].set_visible(False)\n",
    "        ax.spines[\"bottom\"].set_visible(False)\n",
    "        ax.spines[\"right\"].set_visible(False)\n",
    "        ax.spines[\"left\"].set_visible(False)\n",
    "        if current == 1:\n",
    "            pass\n",
    "        elif current == 2:\n",
    "            ax.set_yscale(\"log\")\n",
    "        elif current == 3:\n",
    "            ax.set_yscale(\"log\")\n",
    "        else:\n",
    "            ax.set_yscale(\"log\")\n",
    "            ax.set_xscale(\"log\")\n",
    "\n",
    "        if(current > 3):\n",
    "            ax.legend(labels2)\n",
    "        else:\n",
    "            ax.legend(labels1)\n",
    "\n",
    "        # Ensure that the axis ticks only show up on the bottom and left of the plot.\n",
    "        # Ticks on the right and top of the plot are generally unnecessary chartjunk.\n",
    "        ax.get_xaxis().tick_bottom()\n",
    "        ax.get_yaxis().tick_left()\n",
    "        plt.savefig(\"plots/\"+Sample+'figure%d.png' % current, bbox_inches=\"tight\")\n"
   ]
  },
  {
   "cell_type": "code",
   "execution_count": 8,
   "metadata": {},
   "outputs": [],
   "source": [
    "\n",
    "\n",
    "\n",
    "def tabling(FileListInconsistency, FileListKB):\n",
    "    print(\"\"\"\\\\begin{table}[ht]\n",
    "\\\\begin{tabular}{|l|l|l|l|}\n",
    "\\\\hline\n",
    "           & Amount of 'Anti-patterns' & sum of 'Anti-patterns' &  Largest Inconsistency  \\\\\\\\ \\\\hline \\\\hline \"\"\")\n",
    "\n",
    "    for file in FileListInconsistency:\n",
    "        dataset = file.split(\"/\")[-2]\n",
    "        json_file = open(file, 'r')\n",
    "        data = json.load(json_file)\n",
    "        IDCoor = []\n",
    "        SizeCoor = []\n",
    "        CountCoor = []\n",
    "        for elem in data:\n",
    "            CountCoor.append(elem[\"Count\"])\n",
    "            SizeCoor.append(elem[\"Size\"])\n",
    "            IDCoor.append(elem[\"id\"])\n",
    "\n",
    "        AmountOfAntiPatterns = sum(i > 0 for i in CountCoor)\n",
    "\n",
    "        print(\"     \"+\" & \".join([str(dataset),str(AmountOfAntiPatterns),str(sum(CountCoor)),str(max(SizeCoor))])+\"\\\\\\\\ \\\\hline\")\n",
    "\n",
    "    print(\"\"\"\\\\end{tabular}\n",
    "\\\\end{table}\"\"\")\n",
    "\n",
    "    print(\"\")\n",
    "\n",
    "    print(\"\"\"\\\\begin{table}[ht]\n",
    "\\\\begin{tabular}{|l|l|l|l|l|}\n",
    "\\\\hline\n",
    "           & Size & Expressivity & Namespaces & Distinct predicates \\\\\\\\ \\\\hline \\\\hline\"\"\")\n",
    "\n",
    "    for file in FileListKB:\n",
    "        dataset = file.split(\"/\")[-2]\n",
    "        json_file = open(file, 'r')\n",
    "        data = json.load(json_file)\n",
    "        print(\"     \"+\" & \".join([str(dataset),str(data[\"Size\"]),str(data[\"Expressivity\"]),str(len(data[\"Predicates\"])),str(len(data[\"Namespaces\"]))])+\"\\\\\\\\ \\\\hline\")\n",
    "    print(\"\"\"\\\\end{tabular}\n",
    "\\\\end{table}\"\"\")\n"
   ]
  },
  {
   "cell_type": "code",
   "execution_count": 22,
   "metadata": {},
   "outputs": [
    {
     "name": "stdout",
     "output_type": "stream",
     "text": [
      "StatResults/DBpedia/InconsistencyStatistics.json\n",
      "#3cb44b\n"
     ]
    },
    {
     "ename": "NameError",
     "evalue": "name 'Math' is not defined",
     "output_type": "error",
     "traceback": [
      "\u001b[0;31m---------------------------------------------------------------------------\u001b[0m",
      "\u001b[0;31mNameError\u001b[0m                                 Traceback (most recent call last)",
      "\u001b[0;32m<ipython-input-22-772906a2f337>\u001b[0m in \u001b[0;36m<module>\u001b[0;34m\u001b[0m\n\u001b[0;32m----> 1\u001b[0;31m \u001b[0mplotting\u001b[0m\u001b[0;34m(\u001b[0m\u001b[0mFileListInconsistency\u001b[0m\u001b[0;34m,\u001b[0m \u001b[0mFileListKB\u001b[0m\u001b[0;34m,\u001b[0m \u001b[0;34m\"\"\u001b[0m\u001b[0;34m)\u001b[0m\u001b[0;34m\u001b[0m\u001b[0;34m\u001b[0m\u001b[0m\n\u001b[0m",
      "\u001b[0;32m<ipython-input-21-d3a3437e9457>\u001b[0m in \u001b[0;36mplotting\u001b[0;34m(FileListInconsistency, FileListKB, Sample)\u001b[0m\n\u001b[1;32m     53\u001b[0m         \u001b[0;32mfor\u001b[0m \u001b[0mx\u001b[0m \u001b[0;32min\u001b[0m \u001b[0mCountCoor\u001b[0m\u001b[0;34m:\u001b[0m\u001b[0;34m\u001b[0m\u001b[0;34m\u001b[0m\u001b[0m\n\u001b[1;32m     54\u001b[0m             \u001b[0;32mif\u001b[0m \u001b[0;34m(\u001b[0m\u001b[0mx\u001b[0m \u001b[0;34m>=\u001b[0m \u001b[0;36m1\u001b[0m\u001b[0;34m)\u001b[0m\u001b[0;34m:\u001b[0m\u001b[0;34m\u001b[0m\u001b[0;34m\u001b[0m\u001b[0m\n\u001b[0;32m---> 55\u001b[0;31m                 \u001b[0mCountCoorElem\u001b[0m\u001b[0;34m.\u001b[0m\u001b[0mappend\u001b[0m\u001b[0;34m(\u001b[0m\u001b[0mMath\u001b[0m\u001b[0;34m.\u001b[0m\u001b[0mround\u001b[0m\u001b[0;34m(\u001b[0m\u001b[0mx\u001b[0m\u001b[0;34m,\u001b[0m\u001b[0;36m0\u001b[0m\u001b[0;34m)\u001b[0m\u001b[0;34m)\u001b[0m\u001b[0;34m\u001b[0m\u001b[0;34m\u001b[0m\u001b[0m\n\u001b[0m\u001b[1;32m     56\u001b[0m         \u001b[0mprint\u001b[0m\u001b[0;34m(\u001b[0m\u001b[0mCountCoorElem\u001b[0m\u001b[0;34m)\u001b[0m\u001b[0;34m\u001b[0m\u001b[0;34m\u001b[0m\u001b[0m\n\u001b[1;32m     57\u001b[0m         \u001b[0mplt\u001b[0m\u001b[0;34m.\u001b[0m\u001b[0mfigure\u001b[0m\u001b[0;34m(\u001b[0m\u001b[0;36m3\u001b[0m\u001b[0;34m)\u001b[0m\u001b[0;34m\u001b[0m\u001b[0;34m\u001b[0m\u001b[0m\n",
      "\u001b[0;31mNameError\u001b[0m: name 'Math' is not defined"
     ]
    },
    {
     "data": {
      "image/png": "[encoded data removed]",
      "text/plain": [
       "<Figure size 432x288 with 1 Axes>"
      ]
     },
     "metadata": {
      "needs_background": "light"
     },
     "output_type": "display_data"
    },
    {
     "data": {
      "image/png": "[encoded data removed]",
      "text/plain": [
       "<Figure size 432x288 with 1 Axes>"
      ]
     },
     "metadata": {
      "needs_background": "light"
     },
     "output_type": "display_data"
    }
   ],
   "source": [
    "plotting(FileListInconsistency, FileListKB, \"\")\n"
   ]
  },
  {
   "cell_type": "code",
   "execution_count": null,
   "metadata": {},
   "outputs": [],
   "source": [
    "plots.plotting(FileListInconsistency, FileListKB, \"\")"
   ]
  },
  {
   "cell_type": "code",
   "execution_count": null,
   "metadata": {},
   "outputs": [],
   "source": [
    "tables.tabling(FileListInconsistency, FileListKB)"
   ]
  },
  {
   "cell_type": "code",
   "execution_count": null,
   "metadata": {},
   "outputs": [],
   "source": [
    "tables.tabling(FileListInconsistencySample, FileListKBSample)"
   ]
  },
  {
   "cell_type": "code",
   "execution_count": null,
   "metadata": {},
   "outputs": [],
   "source": []
  },
  {
   "cell_type": "code",
   "execution_count": null,
   "metadata": {},
   "outputs": [],
   "source": []
  },
  {
   "cell_type": "code",
   "execution_count": null,
   "metadata": {},
   "outputs": [],
   "source": []
  },
  {
   "cell_type": "code",
   "execution_count": null,
   "metadata": {},
   "outputs": [],
   "source": []
  }
 ],
 "metadata": {
  "kernelspec": {
   "display_name": "Python 3",
   "language": "python",
   "name": "python3"
  },
  "language_info": {
   "codemirror_mode": {
    "name": "ipython",
    "version": 3
   },
   "file_extension": ".py",
   "mimetype": "text/x-python",
   "name": "python",
   "nbconvert_exporter": "python",
   "pygments_lexer": "ipython3",
   "version": "3.6.9"
  }
 },
 "nbformat": 4,
 "nbformat_minor": 2
}
